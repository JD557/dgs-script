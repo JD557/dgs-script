{
 "cells": [
  {
   "cell_type": "code",
   "execution_count": 2,
   "metadata": {},
   "outputs": [],
   "source": [
    "import pdfquery\n",
    "import requests\n",
    "from datetime import datetime, timedelta\n",
    "from lxml import html\n",
    "import copy as copy"
   ]
  },
  {
   "cell_type": "code",
   "execution_count": 3,
   "metadata": {},
   "outputs": [],
   "source": [
    "template = pdfquery.PDFQuery(\"./template.pdf\")\n",
    "template.load()\n",
    "\n",
    "pdf = pdfquery.PDFQuery(\"./example.pdf\")\n",
    "pdf.load()"
   ]
  },
  {
   "cell_type": "code",
   "execution_count": 4,
   "metadata": {},
   "outputs": [],
   "source": [
    "# Obter bounding boxes a partir do pdf 'template' #\n",
    "def enlargeBbox(bbox):\n",
    "    res = [x for x in bbox]\n",
    "    res[0]-=20\n",
    "    res[1]-=2\n",
    "    res[2]+=20\n",
    "    res[3]+=2\n",
    "    res = \",\".join([str(x) for x in res])\n",
    "    #\"x0,y0,x1,y1\"\n",
    "    return res\n",
    "\n",
    "#valores do pdf 'template'\n",
    "#usados para obter as bounding boxes dos valores\n",
    "attrs = {\n",
    "    \"norte\": \"16834\",\n",
    "    \"norte_o\": \"803\",\n",
    "    \"centro\": \"3789\",\n",
    "    \"centro_o\": \"244\",\n",
    "    \"LVT\": \"12473\",\n",
    "    \"LVT_o\": \"387\",\n",
    "    \"alentejo\": \"263\",\n",
    "    \"alentejo_o\": \"1\",\n",
    "    \"algarve\": \"380\",\n",
    "    \"algarve_o\": \"15\",\n",
    "    \"açores\": \"140\",\n",
    "    \"açores_o\": \"15\",\n",
    "    \"madeira\": \"90\",\n",
    "    \"madeira_o\": \"0\",\n",
    "\n",
    "    \"suspeitos\": \"334923\",\n",
    "    \"confirmados\": \"33969\",\n",
    "    \"nao_confirmados\": \"299318\",\n",
    "    \"aguardam\": \"1636\",\n",
    "    \"recuperados\": \"20526\",\n",
    "    \"obitos\": \"1465\",\n",
    "    \"contactos\": \"28088\",\n",
    "    #casos especiais, 4ª pagina\n",
    "    \"UCI\": \"58\",\n",
    "    \"internados\": \"421\"\n",
    "}\n",
    "\n",
    "\n",
    "bboxes = {\n",
    "    \n",
    "}\n",
    "\n",
    "res = {\n",
    "    \n",
    "}\n",
    "\n",
    "def select_match(objs,query):\n",
    "    #filtrar None's\n",
    "    matches = list(filter(lambda x: not x.text is None,objs))\n",
    "    #seleccionar primeiro elemento com texto correto\n",
    "    matches = list(filter(lambda x: x.text.strip()==str(query), matches)) \n",
    "    return matches[0]\n",
    "\n",
    "for attr in attrs.keys():\n",
    "    #obter bboxes\n",
    "    val = attrs[attr]\n",
    "    matchObj = select_match(template.pq(f\"*:contains('{val}')\"),val)\n",
    "    bbox = enlargeBbox(matchObj.layout.bbox)\n",
    "    bboxes[attr] = bbox"
   ]
  },
  {
   "cell_type": "code",
   "execution_count": 5,
   "metadata": {},
   "outputs": [],
   "source": [
    "# Obter dados dado um pdf #\n",
    "\n",
    "def get_values(pdf):\n",
    "    extract_query = [('with_parent','LTPage[page_index=\"0\"]')]\n",
    "    #adicionar query por bounding box por cada atributo\n",
    "    for attr in bboxes.keys():\n",
    "        if(attr!=\"UCI\" and attr!=\"internados\"):\n",
    "            extract_query.append( (attr, f\":in_bbox('{bboxes[attr]}')\") )\n",
    "    \n",
    "    extract_query.append( ('with_parent','LTPage[page_index=\"3\"]') )\n",
    "    extract_query.append( ('UCI', f\":in_bbox('{bboxes['UCI']}')\") )\n",
    "    extract_query.append( ('internados', f\":in_bbox('{bboxes['internados']}')\") )\n",
    "    \n",
    "    #extrair matches\n",
    "    res = pdf.extract(extract_query)\n",
    "    for key in res.keys():\n",
    "        res[key].sort(key=len)\n",
    "        if(len(res[key])):\n",
    "            res[key] = int(res[key][0].text.strip())\n",
    "    return res"
   ]
  },
  {
   "cell_type": "code",
   "execution_count": 6,
   "metadata": {
    "scrolled": true
   },
   "outputs": [
    {
     "data": {
      "text/plain": [
       "{'norte': 16789,\n",
       " 'norte_o': 795,\n",
       " 'centro': 3753,\n",
       " 'centro_o': 240,\n",
       " 'LVT': 11493,\n",
       " 'LVT_o': 370,\n",
       " 'alentejo': 260,\n",
       " 'alentejo_o': 1,\n",
       " 'algarve': 372,\n",
       " 'algarve_o': 15,\n",
       " 'açores': 137,\n",
       " 'açores_o': 15,\n",
       " 'madeira': 91,\n",
       " 'madeira_o': 0,\n",
       " 'suspeitos': 328873,\n",
       " 'confirmados': 32895,\n",
       " 'nao_confirmados': 294112,\n",
       " 'aguardam': 1866,\n",
       " 'recuperados': 19869,\n",
       " 'obitos': 1436,\n",
       " 'contactos': 28064,\n",
       " 'UCI': 58,\n",
       " 'internados': 432}"
      ]
     },
     "metadata": {},
     "output_type": "display_data"
    }
   ],
   "source": [
    "#output de um pdf exemplo\n",
    "display(get_values(pdf))"
   ]
  },
  {
   "cell_type": "code",
   "execution_count": 7,
   "metadata": {},
   "outputs": [],
   "source": [
    "#Obter dados da página do Min.Saúde\n",
    "page = requests.get('https://covid19.min-saude.pt/relatorio-de-situacao/')\n",
    "tree = html.fromstring(page.content)\n",
    "\n",
    "todayStr = datetime.today().strftime('%d/%m/%Y')\n",
    "yesterdayStr = datetime.strftime(datetime.now() - timedelta(1), '%d/%m/%Y')"
   ]
  },
  {
   "cell_type": "code",
   "execution_count": 10,
   "metadata": {},
   "outputs": [
    {
     "name": "stdout",
     "output_type": "stream",
     "text": [
      "downloading  https://covid19.min-saude.pt/wp-content/uploads/2020/06/95_DGS_boletim_20200605V2.pdf\n",
      "downloading  https://covid19.min-saude.pt/wp-content/uploads/2020/06/94_DGS_boletim_20200604.pdf\n",
      "downloading  https://covid19.min-saude.pt/wp-content/uploads/2020/06/93_DGS_boletim_20200603.pdf\n",
      "downloading  https://covid19.min-saude.pt/wp-content/uploads/2020/06/92_DGS_boletim_20200602.pdf\n",
      "downloading  https://covid19.min-saude.pt/wp-content/uploads/2020/06/91_DGS_boletim_20200601.pdf\n",
      "downloading  https://covid19.min-saude.pt/wp-content/uploads/2020/05/90_DGS_boletim_20200531.pdf\n",
      "Parsing pdf's...\n",
      "Getting values...\n"
     ]
    }
   ],
   "source": [
    "tree = html.fromstring(page.content)\n",
    "today_link = tree.xpath(f\"//a[contains(text(), '{todayStr}')]\")\n",
    "all_links = tree.xpath(\"//*[@class='single_content']/ul/li/a\")\n",
    "\n",
    "#Se não tem dados de hoje\n",
    "if(not len(today_link)):\n",
    "    print(\"Getting yesterday's stats\")\n",
    "    todayStr = yesterdayStr\n",
    "\n",
    "#Obtém últimos 6 pdf's\n",
    "pdf_links = [x.attrib['href'] for x in all_links[:6]]\n",
    "for (i,link) in enumerate(pdf_links):\n",
    "\n",
    "    r = requests.get(link, stream=True)\n",
    "\n",
    "    with open(f\"./latest/{i}.pdf\", 'wb') as fd:\n",
    "        for chunk in r.iter_content(2048):\n",
    "            fd.write(chunk)\n",
    "\n",
    "    print(\"downloading \",link)\n",
    "\n",
    "#Obtém dados dos pdfs\n",
    "print(\"Parsing pdf's...\")\n",
    "pdfs = [pdfquery.PDFQuery(f\"./latest/{x}.pdf\") for x in range(6)]\n",
    "print(\"Getting values...\")\n",
    "vals = [get_values(x) for x in pdfs]"
   ]
  },
  {
   "cell_type": "code",
   "execution_count": 11,
   "metadata": {},
   "outputs": [
    {
     "data": {
      "text/plain": [
       "{'norte': [16834, 16819, 16804, 16789, 16760, 16760],\n",
       " 'norte_o': [803, 801, 796, 795, 791, 784],\n",
       " 'centro': [3789, 3770, 3765, 3753, 3747, 3744],\n",
       " 'centro_o': [244, 240, 240, 240, 239, 238],\n",
       " 'LVT': [12473, 12137, 11828, 11493, 11335, 11142],\n",
       " 'LVT_o': [387, 383, 380, 370, 363, 357],\n",
       " 'alentejo': [263, 262, 260, 260, 259, 259],\n",
       " 'alentejo_o': [1, 1, 1, 1, 1, 1],\n",
       " 'algarve': [380, 376, 376, 372, 372, 370],\n",
       " 'algarve_o': [15, 15, 15, 15, 15, 15],\n",
       " 'açores': [140, 138, 138, 137, 137, 135],\n",
       " 'açores_o': [15, 15, 15, 15, 15, 15],\n",
       " 'madeira': [90, 90, 90, 91, 90, 90],\n",
       " 'madeira_o': [0, 0, 0, 0, 0, 0],\n",
       " 'suspeitos': [334923, 333106, 331094, 328873, 326278, 325026],\n",
       " 'confirmados': [33969, 33592, 33261, 32895, 32700, 32500],\n",
       " 'nao_confirmados': [299318, 297773, 295889, 294112, 291858, 290510],\n",
       " 'aguardam': [1636, 1741, 1944, 1866, 1720, 2016],\n",
       " 'recuperados': [20526, 20323, 20079, 19869, 19552, 19409],\n",
       " 'obitos': [1465, 1455, 1447, 1436, 1424, 1410],\n",
       " 'contactos': [28088, 28685, 28093, 28064, 27958, 27924],\n",
       " 'UCI': [58, 58, 56, 58, 64, 64],\n",
       " 'internados': [421, 445, 428, 432, 471, 474]}"
      ]
     },
     "metadata": {},
     "output_type": "display_data"
    }
   ],
   "source": [
    "#Agrupa dados dos últimos dias numa lista\n",
    "_attrs = copy.copy(vals[0])\n",
    "\n",
    "for k in _attrs.keys():\n",
    "    _attrs[k] = []\n",
    "\n",
    "for file_vals in vals:\n",
    "    for attr in file_vals:\n",
    "        _attrs[attr].append(file_vals[attr])\n",
    "        \n",
    "display(_attrs)"
   ]
  },
  {
   "cell_type": "code",
   "execution_count": 12,
   "metadata": {},
   "outputs": [
    {
     "name": "stdout",
     "output_type": "stream",
     "text": [
      "[11978, 11814, 11735, 11590, 11724, 11681]\n"
     ]
    }
   ],
   "source": [
    "#Cálcula casos ativos\n",
    "_attrs['ativos'] = []\n",
    "for i in range(6):\n",
    "    _attrs['ativos'].append( _attrs['confirmados'][i] - _attrs['recuperados'][i] - _attrs['obitos'][i])\n",
    "print(_attrs['ativos'])"
   ]
  },
  {
   "cell_type": "code",
   "execution_count": 13,
   "metadata": {},
   "outputs": [
    {
     "name": "stdout",
     "output_type": "stream",
     "text": [
      "\n",
      "\n",
      "# ATUALIZAÇÃO DIÁRIA - 05/06/2020\n",
      "\n",
      "---\n",
      "\n",
      "|👥 Totais|Variação|📈 1 dia|📈 3 dias|📈 5 dias|\n",
      ":--|:--|:--|:--|:--|\n",
      "|33969|+377|+1.12%|+3.26%|+4.52%|\n",
      "|**✔️ Recuperados**|**Variação**|**📈 1 dia**|**📈 3 dias**|**📈 5 dias**|\n",
      "|20526|+203|+1.0%|+3.31%|+5.76%|\n",
      "|**☠️ Óbitos**|**Variação**|**📈 1 dia**|**📈 3 dias**|**📈 5 dias**|\n",
      "|1465|+10|+0.69%|+2.02%|+3.9%|\n",
      "|**🏥 Internados**|**Variação**|**📈 1 dia**|**📈 3 dias**|**📈 5 dias**|\n",
      "|421|-24|-5.39%|-2.55%|-11.18%|\n",
      "|🛌 **UCI**|**Variação**|**📈 1 dia**|**📈 3 dias**|**📈 5 dias**|\n",
      "|58|+0|+0.0%|+0.0%|-9.38%|\n",
      "|😷 **Ativos**|**Variação**|**📈 1 dia**|**📈 3 dias**|**📈 5 dias**|\n",
      "|11978|+164|+1.39%|+3.35%|+2.54%|\n",
      "\n",
      "---\n",
      "\n",
      "|📊 **Aumento de Novos Casos face a Casos Ativos:**|\n",
      ":--|\n",
      "| +3.15%|\n",
      "\n"
     ]
    }
   ],
   "source": [
    "#pretty print dos valores\n",
    "def diff_str(val,end=\"\"):\n",
    "    if(end==\"%\"):\n",
    "        val_str = str(round(val,2))\n",
    "    else:\n",
    "        val_str = str(val)\n",
    "    if(val >=0):\n",
    "        return f\"+{val_str}{end}\"\n",
    "    else:\n",
    "        return f\"{val_str}{end}\"\n",
    "\n",
    "def latest(k):\n",
    "    return str(_attrs[k][0])\n",
    "def var(k):\n",
    "    return diff_str(_attrs[k][0] - _attrs[k][1])\n",
    "def var_d(k,days=1):\n",
    "    diff = _attrs[k][0] - _attrs[k][0+days]\n",
    "    diff_p = diff*100/_attrs[k][0+days]\n",
    "    return diff_str(diff_p,end=\"%\")\n",
    "\n",
    "\n",
    "def row_str(attr):\n",
    "    return f\"|{latest(attr)}|{var(attr)}|{var_d(attr,1)}|{var_d(attr,3)}|{var_d(attr,5)}|\"\n",
    "    \n",
    "\n",
    "def aumento():\n",
    "    novos = int(var('confirmados'))\n",
    "    ativos = int(latest('ativos'))\n",
    "    diff_p = novos*100/ativos\n",
    "    return diff_str(diff_p,end=\"%\")\n",
    "\n",
    "template_txt = f\"\"\"\n",
    "\n",
    "# ATUALIZAÇÃO DIÁRIA - {todayStr}\n",
    "\n",
    "---\n",
    "\n",
    "|👥 Totais|Variação|📈 1 dia|📈 3 dias|📈 5 dias|\n",
    ":--|:--|:--|:--|:--|\n",
    "{row_str('confirmados')}\n",
    "|**✔️ Recuperados**|**Variação**|**📈 1 dia**|**📈 3 dias**|**📈 5 dias**|\n",
    "{row_str('recuperados')}\n",
    "|**☠️ Óbitos**|**Variação**|**📈 1 dia**|**📈 3 dias**|**📈 5 dias**|\n",
    "{row_str('obitos')}\n",
    "|**🏥 Internados**|**Variação**|**📈 1 dia**|**📈 3 dias**|**📈 5 dias**|\n",
    "{row_str('internados')}\n",
    "|🛌 **UCI**|**Variação**|**📈 1 dia**|**📈 3 dias**|**📈 5 dias**|\n",
    "{row_str('UCI')}\n",
    "|😷 **Ativos**|**Variação**|**📈 1 dia**|**📈 3 dias**|**📈 5 dias**|\n",
    "{row_str('ativos')}\n",
    "\n",
    "---\n",
    "\n",
    "|📊 **Aumento de Novos Casos face a Casos Ativos:**|\n",
    ":--|\n",
    "| {aumento()}|\n",
    "\"\"\"\n",
    "print(template_txt)"
   ]
  }
 ],
 "metadata": {
  "kernelspec": {
   "display_name": "Python 3",
   "language": "python",
   "name": "python3"
  },
  "language_info": {
   "codemirror_mode": {
    "name": "ipython",
    "version": 3
   },
   "file_extension": ".py",
   "mimetype": "text/x-python",
   "name": "python",
   "nbconvert_exporter": "python",
   "pygments_lexer": "ipython3",
   "version": "3.7.6"
  }
 },
 "nbformat": 4,
 "nbformat_minor": 4
}
